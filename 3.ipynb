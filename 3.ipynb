{
  "cells": [
    {
      "cell_type": "code",
      "execution_count": null,
      "id": "9553db93",
      "metadata": {
        "id": "9553db93"
      },
      "outputs": [],
      "source": [
        "import numpy as np\n",
        "import pandas as pd\n",
        "import random\n",
        "import tensorflow as tf\n",
        "import matplotlib.pyplot as plt\n",
        "from sklearn.metrics import accuracy_score\n",
        "\n",
        "from tensorflow.keras.models import Sequential\n",
        "from tensorflow.keras.layers import Flatten, Conv2D, Dense, MaxPooling2D\n",
        "from tensorflow.keras.optimizers import SGD\n",
        "from tensorflow.keras.utils import to_categorical\n",
        "from tensorflow.keras.datasets import mnist"
      ]
    },
    {
      "cell_type": "code",
      "execution_count": null,
      "id": "a36cf47d",
      "metadata": {
        "id": "a36cf47d"
      },
      "outputs": [],
      "source": [
        "(X_train, y_train), (X_test, y_test) = mnist.load_data()"
      ]
    },
    {
      "cell_type": "code",
      "execution_count": null,
      "id": "dd1a4724",
      "metadata": {
        "id": "dd1a4724"
      },
      "outputs": [],
      "source": [
        "print(X_train.shape)"
      ]
    },
    {
      "cell_type": "code",
      "execution_count": null,
      "id": "90fd25ae",
      "metadata": {
        "id": "90fd25ae"
      },
      "outputs": [],
      "source": [
        "X_train[0].min(), X_train[0].max()"
      ]
    },
    {
      "cell_type": "code",
      "execution_count": null,
      "id": "2147784c",
      "metadata": {
        "id": "2147784c"
      },
      "outputs": [],
      "source": [
        "X_train = (X_train - 0.0) / (255.0 - 0.0)\n",
        "X_test = (X_test - 0.0) / (255.0 - 0.0)\n",
        "X_train[0].min(), X_train[0].max()"
      ]
    },
    {
      "cell_type": "code",
      "execution_count": null,
      "id": "ee860352",
      "metadata": {
        "id": "ee860352"
      },
      "outputs": [],
      "source": [
        "X_train = X_train.reshape((X_train.shape + (1,)))\n",
        "X_test = X_test.reshape((X_test.shape + (1,)))"
      ]
    },
    {
      "cell_type": "code",
      "execution_count": null,
      "id": "3d5355c5",
      "metadata": {
        "id": "3d5355c5"
      },
      "outputs": [],
      "source": [
        "y_train[0:20]"
      ]
    },
    {
      "cell_type": "code",
      "execution_count": null,
      "id": "b6fbb784",
      "metadata": {
        "id": "b6fbb784"
      },
      "outputs": [],
      "source": [
        "model = Sequential([\n",
        "    Conv2D(32, (3, 3), activation=\"relu\", input_shape=(28, 28, 1)),\n",
        "    MaxPooling2D((2, 2)),\n",
        "    Flatten(),\n",
        "    Dense(100, activation=\"relu\"),\n",
        "    Dense(10, activation=\"softmax\")\n",
        "])"
      ]
    },
    {
      "cell_type": "code",
      "execution_count": null,
      "id": "265fff2c",
      "metadata": {
        "id": "265fff2c"
      },
      "outputs": [],
      "source": [
        "optimizer = SGD(learning_rate=0.01, momentum=0.9)\n",
        "model.compile(\n",
        "    optimizer=optimizer, \n",
        "    loss=\"sparse_categorical_crossentropy\", \n",
        "    metrics=[\"accuracy\"]\n",
        ")\n",
        "model.summary()"
      ]
    },
    {
      "cell_type": "code",
      "execution_count": null,
      "id": "fdd64086",
      "metadata": {
        "id": "fdd64086"
      },
      "outputs": [],
      "source": [
        "model.fit(X_train, y_train, epochs=10, batch_size=32)"
      ]
    },
    {
      "cell_type": "code",
      "execution_count": null,
      "id": "1b3faf90",
      "metadata": {
        "id": "1b3faf90"
      },
      "outputs": [],
      "source": [
        "predictions = np.argmax(model.predict(X_test), axis=-1)\n",
        "accuracy_score(y_test, predictions)"
      ]
    },
    {
      "cell_type": "code",
      "execution_count": null,
      "id": "84163a3b",
      "metadata": {
        "id": "84163a3b"
      },
      "outputs": [],
      "source": [
        "n=random.randint(0,9999)\n",
        "plt.imshow(X_test[n].squeeze())\n",
        "plt.show()"
      ]
    },
    {
      "cell_type": "code",
      "execution_count": null,
      "id": "6188fb3b",
      "metadata": {
        "id": "6188fb3b"
      },
      "outputs": [],
      "source": [
        "predicted_value=model.predict(X_test)\n",
        "print(\"Handwritten number in the image is= %d\" %np.argmax(predicted_value[n]))"
      ]
    },
    {
      "cell_type": "code",
      "execution_count": null,
      "id": "e1e335b1",
      "metadata": {
        "id": "e1e335b1"
      },
      "outputs": [],
      "source": [
        "score = model.evaluate(X_test, y_test, verbose=0)\n",
        "print('Test loss:', score[0]) #Test loss: 0.0296396646054\n",
        "print('Test accuracy:', score[1])"
      ]
    }
  ],
  "metadata": {
    "kernelspec": {
      "display_name": "Python 3 (ipykernel)",
      "language": "python",
      "name": "python3"
    },
    "language_info": {
      "codemirror_mode": {
        "name": "ipython",
        "version": 3
      },
      "file_extension": ".py",
      "mimetype": "text/x-python",
      "name": "python",
      "nbconvert_exporter": "python",
      "pygments_lexer": "ipython3",
      "version": "3.7.13"
    },
    "colab": {
      "provenance": []
    }
  },
  "nbformat": 4,
  "nbformat_minor": 5
}